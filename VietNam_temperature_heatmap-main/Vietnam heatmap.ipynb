{
 "cells": [
  {
   "cell_type": "code",
   "execution_count": 1,
   "id": "b130da0c",
   "metadata": {},
   "outputs": [],
   "source": [
    "import numpy as np\n",
    "import pandas as pd\n",
    "import shapefile as shp\n",
    "import matplotlib.pyplot as plt\n",
    "import seaborn as sns\n",
    "\n",
    "%matplotlib qt\n",
    "sns.set(style=\"whitegrid\", palette=\"pastel\", color_codes=True) \n",
    "sns.mpl.rc(\"figure\", figsize=(10,6))\n",
    "#opening the vector map\n",
    "shp_path = \"data.zip\"\n",
    "#reading the shape file by using reader function of the shape lib\n",
    "sf = shp.Reader(shp_path)\n",
    "def plot_shape(id, s=None):\n",
    "    plt.figure()\n",
    "    #plotting the graphical axes where map ploting will be done\n",
    "    ax = plt.axes()\n",
    "    ax.set_aspect('equal')\n",
    "#storing the id number to be worked upon\n",
    "    shape_ex = sf.shape(id)\n",
    "#NP.ZERO initializes an array of rows and column with 0 in place of each elements \n",
    "    #an array will be generated where number of rows will be(len(shape_ex,point))and number of columns will be 1 and stored into the variable\n",
    "    x_lon = np.zeros((len(shape_ex.points),1))\n",
    "#an array will be generated where number of rows will be(len(shape_ex,point))and number of columns will be 1 and stored into the variable\n",
    "    y_lat = np.zeros((len(shape_ex.points),1))\n",
    "    for ip in range(len(shape_ex.points)):\n",
    "        x_lon[ip] = shape_ex.points[ip][0]\n",
    "        y_lat[ip] = shape_ex.points[ip][1]\n",
    "#plotting using the derived coordinated stored in array created by numpy\n",
    "    plt.plot(x_lon,y_lat) \n",
    "    x0 = np.mean(x_lon)\n",
    "    y0 = np.mean(y_lat)\n",
    "    plt.text(x0, y0, s, fontsize=10)\n",
    "# use bbox (bounding box) to set plot limits\n",
    "    plt.xlim(shape_ex.bbox[0],shape_ex.bbox[2])\n",
    "    return x0, y0\n",
    "\n",
    "def plot_map(sf, x_lim = None, y_lim = None, figsize = (11,9)):\n",
    "    plt.figure(figsize = figsize)\n",
    "    id=0\n",
    "    for shape in sf.shapeRecords():\n",
    "        x = [i[0] for i in shape.shape.points[:]]\n",
    "        y = [i[1] for i in shape.shape.points[:]]\n",
    "        plt.plot(x, y, 'k')\n",
    "        \n",
    "        if (x_lim == None) & (y_lim == None):\n",
    "            x0 = np.mean(x)\n",
    "            y0 = np.mean(y)\n",
    "            plt.text(x0, y0, id, fontsize=10)\n",
    "        id = id+1\n",
    "    \n",
    "    if (x_lim != None) & (y_lim != None):     \n",
    "        plt.xlim(x_lim)\n",
    "        plt.ylim(y_lim)\n",
    "#calling the function and passing required parameters to plot the full map\n",
    "plot_map(sf)"
   ]
  },
  {
   "cell_type": "code",
   "execution_count": 2,
   "id": "6b267f72",
   "metadata": {},
   "outputs": [
    {
     "data": {
      "text/plain": [
       "(65, 13)"
      ]
     },
     "execution_count": 2,
     "metadata": {},
     "output_type": "execute_result"
    }
   ],
   "source": [
    "def read_shapefile(sf):\n",
    "    #fetching the headings from the shape file\n",
    "    fields = [x[0] for x in sf.fields][1:]\n",
    "#fetching the records from the shape file\n",
    "    records = [list(i) for i in sf.records()]\n",
    "    shps = [s.points for s in sf.shapes()]\n",
    "#converting shapefile data into pandas dataframe\n",
    "    df = pd.DataFrame(columns=fields, data=records)\n",
    "#assigning the coordinates\n",
    "    df = df.assign(coords=shps)\n",
    "    return df\n",
    "\n",
    "df = read_shapefile(sf)\n",
    "df.shape"
   ]
  },
  {
   "cell_type": "code",
   "execution_count": 3,
   "id": "cc8e304f",
   "metadata": {},
   "outputs": [
    {
     "name": "stdout",
     "output_type": "stream",
     "text": [
      "['Đà Nẵng', 'Đồng Nai', 'Đồng Tháp', 'Đăk Nông', 'Đắk Lắk', 'Điện Biên', 'An Giang', 'Bà Rịa - Vũng Tàu', 'Bình Định', 'Bình Dương', 'Bình Phước', 'Bình Thuận', 'Bạc Liêu', 'Bắc Giang', 'Bắc Kạn', 'Bắc Ninh', 'Bến Tre', 'Cà Mau', 'Cao Bằng', 'Cần Thơ', 'Gia Lai', 'Hà Giang', 'Hà Nội', 'Hà Nam', 'Hà Tĩnh', 'Hồ Chí Minh city', 'Hòa Bình', 'Hưng Yên', 'Hải Dương', 'Hải Phòng', 'Hậu Giang', 'Khánh Hòa', 'Kiên Giang', 'Kiên Giang', 'Kon Tum', 'Lào Cai', 'Lâm Đồng', 'Lai Châu', 'Lạng Sơn', 'Long An', 'Nam Định', 'Nghệ An', 'Ninh Bình', 'Ninh Bình', 'Ninh Thuận', 'Phú Thọ', 'Phú Yên', 'Quảng Bình', 'Quảng Nam', 'Quảng Ngãi', 'Quảng Ninh', 'Quảng Trị', 'Sóc Trăng', 'Sơn La', 'Tây Ninh', 'Thái Bình', 'Thái Nguyên', 'Thừa Thiên - Huế', 'Thanh Hóa', 'Tiền Giang', 'Trà Vinh', 'Tuyên Quang', 'Vĩnh Long', 'Vĩnh Phúc', 'Yên Bái']\n"
     ]
    }
   ],
   "source": [
    "cities_name = df.NAME_1\n",
    "cities = list(cities_name)\n",
    "print(cities)"
   ]
  },
  {
   "cell_type": "code",
   "execution_count": 4,
   "id": "43120c79",
   "metadata": {},
   "outputs": [],
   "source": [
    "def calc_color(data, color=None):\n",
    "        if color   == 1: \n",
    "            color_sq =  ['#dadaebFF','#bcbddcF0','#9e9ac8F0','#807dbaF0','#6a51a3F0','#54278fF0']; \n",
    "            colors = 'Purples';\n",
    "        elif color == 2:\n",
    "            color_sq = ['#fee391','#fec44f','#ffce00','#fe9929','#ff9a00','#ff5a00']; \n",
    "            colors = 'YlOrBr';\n",
    "        elif color == 3: \n",
    "            color_sq = ['#f7f7f7','#d9d9d9','#bdbdbd','#969696','#636363','#252525']; \n",
    "            colors = 'Greys';\n",
    "        elif color == 9: \n",
    "            color_sq = ['#ff0000','#ff0000','#ff0000','#ff0000','#ff0000','#ff0000'];\n",
    "                        \n",
    "        else:           \n",
    "            color_sq = ['#c7e9b4','#7fcdbb','#41b6c4','#1d91c0','#225ea8','#253494']; \n",
    "            colors = 'YlGnBu'; \n",
    "        new_data, bins = pd.qcut(data, 5, retbins=True, \n",
    "        labels=list(range(4)), duplicates='drop')\n",
    "        color_ton = []\n",
    "        for val in new_data:\n",
    "            color_ton.append(color_sq[val]) \n",
    "        if color != 9:\n",
    "            colors = sns.color_palette(colors, n_colors=4)\n",
    "            sns.palplot(colors, 0.6);\n",
    "            for i in range(4):\n",
    "                print (\"\\n\"+str(i+1)+': '+str(int(bins[i]))+\n",
    "                       \" => \"+str(int(bins[i+1])-1))\n",
    "            print(\"\\n\\n   1   2   3   4  \")    \n",
    "        return color_ton, bins;"
   ]
  },
  {
   "cell_type": "code",
   "execution_count": 5,
   "id": "6537cebf",
   "metadata": {},
   "outputs": [
    {
     "name": "stdout",
     "output_type": "stream",
     "text": [
      "[29.99, 0, 0, 0, 0, 0, 35.16, 0, 31.48, 30.91, 0, 0, 32.02, 26.76, 27.05, 25.66, 35.18, 33.98, 27.77, 36.11, 33.17, 28.69, 24.88, 28.45, 23.21, 0, 26.03, 24.75, 0, 26.71, 0, 35.33, 0, 0, 32.8, 31.34, 0, 28.28, 27.58, 34.9, 25.1, 0, 25.21, 25.21, 0, 33.33, 0, 0, 0, 30.07, 0, 28.93, 34.23, 30.8, 20.76, 25.4, 22, 0, 24.83, 0, 34.3, 28.61, 34.61]\n"
     ]
    }
   ],
   "source": [
    "import requests\n",
    "import json\n",
    "import datetime, pytz\n",
    "\n",
    "# Store the api key\n",
    "open_weather_api_key = 'f76f1ec856d79124b38105bac57bee38'\n",
    "\n",
    "def get_weather_forecast_data(cities):\n",
    "    \"\"\"A function to get the weather data with provided city names and optional period\"\"\"\n",
    "    data = []\n",
    "    for city in cities:\n",
    "        url = f'https://api.openweathermap.org/data/2.5/forecast/daily?q={city}&cnt=1&appid={open_weather_api_key}&units=metric'\n",
    "        headers = {'Accept': 'application/vnd.github.v3+json'}\n",
    "        r = requests.get(url, headers=headers)\n",
    "        if r.status_code == 200:\n",
    "            data.append(r.json())\n",
    "        else:\n",
    "            with open('empty.json') as f:\n",
    "                empty_dict = json.load(f)\n",
    "            data.append(empty_dict)\n",
    "    return data\n",
    "\n",
    "# Process results\n",
    "response_dict = get_weather_forecast_data(cities)\n",
    "\n",
    "# Store the data in a json file\n",
    "filename = 'weather_forecast.json'\n",
    "with open(filename, 'w') as f:\n",
    "    json.dump(response_dict, f, indent=4)\n",
    "\n",
    "temps = []\n",
    "for country_index in range(0,63):\n",
    "    # Convert the time from Epoch Unix Timestamp to GMT\n",
    "    temp = response_dict[country_index]['list'][0]['temp']['max']\n",
    "    temps.append(temp)\n",
    "\n",
    "print(temps)"
   ]
  },
  {
   "cell_type": "code",
   "execution_count": 6,
   "id": "db8c5066",
   "metadata": {},
   "outputs": [],
   "source": [
    "def plot_cities_data(sf, title, cities, data=None,color=None, print_city=False):\n",
    " \n",
    "    color_ton, bins = calc_color(data, color)\n",
    "    df = read_shapefile(sf)\n",
    "    city_id = []\n",
    "    for i in cities:\n",
    "        city_id.append(df[df.NAME_1 == i].index.to_numpy()[0])\n",
    "    plot_map_fill_multiples_ids_tone(sf, title, city_id,\n",
    "                                     cities, \n",
    "                                     print_city, \n",
    "                                     color_ton, \n",
    "                                     bins, \n",
    "                                     x_lim = None, \n",
    "                                     y_lim = None, \n",
    "                                     figsize = (11,9));\n",
    "def plot_map_fill_multiples_ids_tone(sf, title, city, cities,  \n",
    "                                     print_city, color_ton, \n",
    "                                     bins, \n",
    "                                     x_lim = None, \n",
    "                                     y_lim = None, \n",
    "                                     figsize = (11,9)):\n",
    "   \n",
    "        \n",
    "    plt.figure(figsize = figsize)\n",
    "    fig, ax = plt.subplots(figsize = figsize)\n",
    "    fig.suptitle(title, fontsize=16)\n",
    "    for shape in sf.shapeRecords():\n",
    "        x = [i[0] for i in shape.shape.points[:]]\n",
    "        y = [i[1] for i in shape.shape.points[:]]\n",
    "        ax.plot(x, y, 'k')\n",
    "             \n",
    "    for (id,city_name) in zip(city,cities):\n",
    "        shape_ex = sf.shape(id)\n",
    "\n",
    "        x_lon = np.zeros((len(shape_ex.points),1))\n",
    "        y_lat = np.zeros((len(shape_ex.points),1))\n",
    "        for ip in range(len(shape_ex.points)):\n",
    "            x_lon[ip] = shape_ex.points[ip][0]\n",
    "            y_lat[ip] = shape_ex.points[ip][1]\n",
    "        try:\n",
    "            ax.fill(x_lon,y_lat, color_ton[city.index(id)])\n",
    "        except IndexError:\n",
    "            pass\n",
    "            \n",
    "        if print_city != False:\n",
    "            x0 = np.mean(x_lon-0.275)\n",
    "            y0 = np.mean(y_lat-0.05)\n",
    "            plt.text(x0, y0, city_name, fontsize=7, color='black')\n",
    "    if (x_lim != None) & (y_lim != None):     \n",
    "        plt.xlim(x_lim)\n",
    "        plt.ylim(y_lim)"
   ]
  },
  {
   "cell_type": "code",
   "execution_count": 8,
   "id": "70ab1bf9",
   "metadata": {},
   "outputs": [
    {
     "name": "stdout",
     "output_type": "stream",
     "text": [
      "\n",
      "1: 0 => 23\n",
      "\n",
      "2: 24 => 26\n",
      "\n",
      "3: 27 => 30\n",
      "\n",
      "4: 31 => 35\n",
      "\n",
      "\n",
      "   1   2   3   4  \n"
     ]
    }
   ],
   "source": [
    "names = df.NAME_1\n",
    "data = temps\n",
    "print_city = True # The city name will be printed\n",
    "color_pallete = 2 # 'Yellow'\n",
    "plot_cities_data(sf, 'Heat map of given cities', names, data, color_pallete, print_city)"
   ]
  },
  {
   "cell_type": "code",
   "execution_count": null,
   "id": "476cdeea",
   "metadata": {},
   "outputs": [],
   "source": []
  },
  {
   "cell_type": "code",
   "execution_count": null,
   "id": "bfcde865",
   "metadata": {},
   "outputs": [],
   "source": []
  },
  {
   "cell_type": "code",
   "execution_count": null,
   "id": "f830186f",
   "metadata": {},
   "outputs": [],
   "source": []
  },
  {
   "cell_type": "code",
   "execution_count": null,
   "id": "727b9baa",
   "metadata": {},
   "outputs": [],
   "source": []
  },
  {
   "cell_type": "code",
   "execution_count": null,
   "id": "2d20a762",
   "metadata": {},
   "outputs": [],
   "source": []
  },
  {
   "cell_type": "code",
   "execution_count": null,
   "id": "728b13bc",
   "metadata": {},
   "outputs": [],
   "source": []
  },
  {
   "cell_type": "code",
   "execution_count": null,
   "id": "400e1f8b",
   "metadata": {},
   "outputs": [],
   "source": []
  },
  {
   "cell_type": "code",
   "execution_count": null,
   "id": "80f13b0b",
   "metadata": {},
   "outputs": [],
   "source": []
  },
  {
   "cell_type": "code",
   "execution_count": null,
   "id": "1e6af6c3",
   "metadata": {},
   "outputs": [],
   "source": []
  },
  {
   "cell_type": "code",
   "execution_count": null,
   "id": "35be9610",
   "metadata": {},
   "outputs": [],
   "source": []
  },
  {
   "cell_type": "code",
   "execution_count": null,
   "id": "9658e92f",
   "metadata": {},
   "outputs": [],
   "source": []
  },
  {
   "cell_type": "code",
   "execution_count": null,
   "id": "9eaa81e7",
   "metadata": {},
   "outputs": [],
   "source": []
  },
  {
   "cell_type": "code",
   "execution_count": null,
   "id": "80b5d555",
   "metadata": {},
   "outputs": [],
   "source": []
  }
 ],
 "metadata": {
  "kernelspec": {
   "display_name": "Python 3 (ipykernel)",
   "language": "python",
   "name": "python3"
  },
  "language_info": {
   "codemirror_mode": {
    "name": "ipython",
    "version": 3
   },
   "file_extension": ".py",
   "mimetype": "text/x-python",
   "name": "python",
   "nbconvert_exporter": "python",
   "pygments_lexer": "ipython3",
   "version": "3.9.13"
  }
 },
 "nbformat": 4,
 "nbformat_minor": 5
}
